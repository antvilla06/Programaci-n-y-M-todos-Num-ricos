{
  "nbformat": 4,
  "nbformat_minor": 0,
  "metadata": {
    "colab": {
      "name": "Unidad 5.ipynb",
      "provenance": [],
      "collapsed_sections": [],
      "authorship_tag": "ABX9TyMtKQWIFz+hOOjiyc025FEx",
      "include_colab_link": true
    },
    "kernelspec": {
      "name": "python3",
      "display_name": "Python 3"
    },
    "language_info": {
      "name": "python"
    }
  },
  "cells": [
    {
      "cell_type": "markdown",
      "metadata": {
        "id": "view-in-github",
        "colab_type": "text"
      },
      "source": [
        "<a href=\"https://colab.research.google.com/github/antvilla06/Programaci-n-y-M-todos-Num-ricos/blob/main/Unidad_5.ipynb\" target=\"_parent\"><img src=\"https://colab.research.google.com/assets/colab-badge.svg\" alt=\"Open In Colab\"/></a>"
      ]
    },
    {
      "cell_type": "markdown",
      "source": [
        ""
      ],
      "metadata": {
        "id": "mgdNTTTq2WKH"
      }
    },
    {
      "cell_type": "code",
      "source": [
        "import matplotlib.pyplot as plt\n",
        "import math\n",
        "import numpy as np\n",
        "from scipy.interpolate import lagrange\n"
      ],
      "metadata": {
        "id": "XJelV-Ia2_8f"
      },
      "execution_count": 2,
      "outputs": []
    },
    {
      "cell_type": "markdown",
      "source": [
        "# Fenómenos de Runge"
      ],
      "metadata": {
        "id": "RGemjJu1rtQ1"
      }
    },
    {
      "cell_type": "code",
      "source": [
        "import matplotlib.pyplot as plt\n",
        "import math\n",
        "import numpy as np\n",
        "from scipy.interpolate import lagrange\n",
        "import numpy as np\n",
        "\n",
        "m = 60\n",
        "n= 30\n",
        "x=np.arange(-1,1,2/n)\n",
        "x=np.append(x,[1])\n",
        "y = 1/(1+25*(x**2))\n",
        "pol = lagrange(x,y)\n",
        "z=np.arange(-1,1,1/m)\n",
        "z=np.append(z,[1])\n",
        "plt.plot(z,pol(z), label = \"lagrange\")\n",
        "plt.plot(z,1/(1+25*(z**2)), label = \"funcion 1/(1+x^2)\")\n",
        "plt.show()\n",
        "\n"
      ],
      "metadata": {
        "colab": {
          "base_uri": "https://localhost:8080/",
          "height": 269
        },
        "id": "lh92p6_orwuo",
        "outputId": "b53d1d0d-7735-4417-8bdf-db0820674c9a"
      },
      "execution_count": 3,
      "outputs": [
        {
          "output_type": "display_data",
          "data": {
            "text/plain": [
              "<Figure size 432x288 with 1 Axes>"
            ],
            "image/png": "[encoded data removed]"
          },
          "metadata": {
            "needs_background": "light"
          }
        }
      ]
    },
    {
      "cell_type": "code",
      "source": [
        "import matplotlib.pyplot as plt\n",
        "\n",
        "import math\n",
        "import numpy as np\n",
        "from scipy.interpolate import lagrange\n",
        "import numpy as np\n",
        "a=2\n",
        "m = 100\n",
        "n= 8\n",
        "x=chevinode(a,n)\n",
        "x=np.append(x,[-a,a])\n",
        "y = 1/(1+25*(x**2))\n",
        "pol = lagrange(x,y)\n",
        "\n",
        "\n",
        "z=np.arange(-a,a,2*a/m)\n",
        "z=np.append(z,[a])\n",
        "plt.plot(z,pol(z), label = \"lagrange\")\n",
        "plt.plot(z,1/(1+25*(z**2)), label = \"funcion 1/(1+x^2)\")\n",
        "plt.legend()\n",
        "\n"
      ],
      "metadata": {
        "colab": {
          "base_uri": "https://localhost:8080/",
          "height": 283
        },
        "outputId": "0e29e201-d455-4bf5-c1aa-3d95782e9800",
        "id": "z4Nayiwu2TeS"
      },
      "execution_count": 6,
      "outputs": [
        {
          "output_type": "execute_result",
          "data": {
            "text/plain": [
              "<matplotlib.legend.Legend at 0x7f9b70ef26d0>"
            ]
          },
          "metadata": {},
          "execution_count": 6
        },
        {
          "output_type": "display_data",
          "data": {
            "text/plain": [
              "<Figure size 432x288 with 1 Axes>"
            ],
            "image/png": "[encoded data removed]"
          },
          "metadata": {
            "needs_background": "light"
          }
        }
      ]
    },
    {
      "cell_type": "code",
      "source": [
        "import matplotlib.pyplot as plt\n",
        "import math\n",
        "import numpy as np\n",
        "from scipy.interpolate import lagrange\n",
        "import numpy as np\n",
        "a=5\n",
        "m = 60\n",
        "n= 8\n",
        "x=np.arange(-a,a,2*a/n)\n",
        "x=np.append(x,[a])\n",
        "y = np.exp(-x**2)\n",
        "pol = lagrange(x,y)\n",
        "z=np.arange(-a,a,2*a/m)\n",
        "z=np.append(z,[a])\n",
        "plt.plot(z,pol(z), label = \"lagrange\")\n",
        "plt.plot(z,np.exp(-z**2), label = \"funcion 1/(1+x^2)\")\n"
      ],
      "metadata": {
        "colab": {
          "base_uri": "https://localhost:8080/",
          "height": 283
        },
        "id": "vc0_7GBYXn8l",
        "outputId": "7548c9b5-eefe-4614-a467-ef8cee6cf4d8"
      },
      "execution_count": null,
      "outputs": [
        {
          "output_type": "execute_result",
          "data": {
            "text/plain": [
              "[<matplotlib.lines.Line2D at 0x7f6284e17d10>]"
            ]
          },
          "metadata": {},
          "execution_count": 37
        },
        {
          "output_type": "display_data",
          "data": {
            "text/plain": [
              "<Figure size 432x288 with 1 Axes>"
            ],
            "image/png": "[encoded data removed]"
          },
          "metadata": {
            "needs_background": "light"
          }
        }
      ]
    },
    {
      "cell_type": "markdown",
      "source": [
        "# Nodos de Chebyshev"
      ],
      "metadata": {
        "id": "smBmNEFQrKGY"
      }
    },
    {
      "cell_type": "code",
      "execution_count": 5,
      "metadata": {
        "id": "M5LW0swTrm5K",
        "colab": {
          "base_uri": "https://localhost:8080/"
        },
        "outputId": "6e118b51-0939-4376-98bc-6db78bda12b4"
      },
      "outputs": [
        {
          "output_type": "execute_result",
          "data": {
            "text/plain": [
              "numpy.ndarray"
            ]
          },
          "metadata": {},
          "execution_count": 5
        }
      ],
      "source": [
        "\n",
        "def chevinode(a,n):\n",
        "  x=[]\n",
        "  pi=math.pi\n",
        "  k=1\n",
        "  while k<=n:\n",
        "    chev = a*math.cos(pi*(2*k-1)/(2*n))\n",
        "    x.append(chev)\n",
        "    k=k+1\n",
        "  x=np.asarray(x)\n",
        "  return x\n",
        "\n",
        "x = chevinode(1,15)  \n",
        "type(x)\n",
        "  "
      ]
    },
    {
      "cell_type": "code",
      "source": [
        "x=np.arange(-1,1,1/5)\n",
        "y=np.exp(x)\n",
        "\n",
        "print(y)"
      ],
      "metadata": {
        "colab": {
          "base_uri": "https://localhost:8080/"
        },
        "id": "RTjXI1RFoC10",
        "outputId": "ffb678be-f4e8-4eb2-a84c-c0feca4ce306"
      },
      "execution_count": null,
      "outputs": [
        {
          "output_type": "stream",
          "name": "stdout",
          "text": [
            "[0.36787944 0.44932896 0.54881164 0.67032005 0.81873075 1.\n",
            " 1.22140276 1.4918247  1.8221188  2.22554093]\n"
          ]
        }
      ]
    },
    {
      "cell_type": "code",
      "source": [
        ""
      ],
      "metadata": {
        "id": "zDHOfDFovByQ"
      },
      "execution_count": null,
      "outputs": []
    },
    {
      "cell_type": "code",
      "source": [
        "import math\n",
        "import numpy as np\n",
        "from scipy.interpolate import lagrange\n",
        "import numpy as np\n",
        "m = 60\n",
        "n= 7\n",
        "x=np.arange(-1,1,2/n)\n",
        "x=np.append(x,[1])\n",
        "y = np.exp(-x**2)\n",
        "pol = lagrange(x,y)\n",
        "z=np.arange(-1,1,1/m)\n",
        "plt.plot(z,pol(z), label = \"lagrange\")\n",
        "plt.plot(z,np.exp(-z**2), label = \"funcion 1/(1+x^2)\")\n",
        "\n"
      ],
      "metadata": {
        "colab": {
          "base_uri": "https://localhost:8080/",
          "height": 283
        },
        "outputId": "50f750cb-5e88-47c7-b208-a74fcd6e0a56",
        "id": "8OylNLEMvCpd"
      },
      "execution_count": 7,
      "outputs": [
        {
          "output_type": "execute_result",
          "data": {
            "text/plain": [
              "[<matplotlib.lines.Line2D at 0x7f9b70e0a510>]"
            ]
          },
          "metadata": {},
          "execution_count": 7
        },
        {
          "output_type": "display_data",
          "data": {
            "text/plain": [
              "<Figure size 432x288 with 1 Axes>"
            ],
            "image/png": "[encoded data removed]"
          },
          "metadata": {
            "needs_background": "light"
          }
        }
      ]
    },
    {
      "cell_type": "code",
      "source": [
        "import math\n",
        "import numpy as np\n",
        "from scipy.interpolate import lagrange\n",
        "import numpy as np\n",
        "m = 60\n",
        "n= 23\n",
        "\n",
        "x=np.arange(-4,4,8/n)\n",
        "x=np.append(x,[4])\n",
        "y = np.sin(x)\n",
        "pol = lagrange(x,y)\n",
        "z=np.arange(-4,4,1/m)\n",
        "plt.plot(z,pol(z), label = \"lagrange\")\n",
        "plt.plot(z,np.sin(z), label = \"funcion 1/(1+x^2)\")"
      ],
      "metadata": {
        "colab": {
          "base_uri": "https://localhost:8080/",
          "height": 283
        },
        "id": "azzOsQbowUCL",
        "outputId": "0c3daa32-4728-420d-de23-100a296b7365"
      },
      "execution_count": 8,
      "outputs": [
        {
          "output_type": "execute_result",
          "data": {
            "text/plain": [
              "[<matplotlib.lines.Line2D at 0x7f9b70dbf390>]"
            ]
          },
          "metadata": {},
          "execution_count": 8
        },
        {
          "output_type": "display_data",
          "data": {
            "text/plain": [
              "<Figure size 432x288 with 1 Axes>"
            ],
            "image/png": "[encoded data removed]"
          },
          "metadata": {
            "needs_background": "light"
          }
        }
      ]
    },
    {
      "cell_type": "markdown",
      "source": [
        "**Error de Newton- Cotes**: Supongamos que $f$ es una función difereniable  en el intervalo $[a,b]$. Denotemos como $h=\\frac{b-a}{n}$ el tamaño de la partición, $I(f)=\\displaystyle\\int_a^bf(x)dx$,  $I_n(f)=\\displaystyle\\int_{a}^bp_n(x)dx$ la aproximación mediante inerpolación. Entones tenems los siguientes resultados:\n",
        "\n",
        "  1. Si n es par, existste una cosntante $C_n$ tal que $|I(f)-I_n(f)|< C_nh^{n+2}f^{(n+2)}(\\xi)$ para cierto $\\xi\\in [a,b]$. Además podemos dar una forma explícita de la constante $c_n$ dada por\n",
        "\n",
        "    $\\displaystyle C_n=\\frac{1}{(n+2)!}\\int_0^nx^2(x-1)(x-2)...(x-n)dx.$\n",
        "\n",
        "2. Si $n$ es impar entonces existe una constante $C_n$ tal que  $|I(f)-I_n(f)|< C_nh^{n+1}f^{(n+1)}(\\xi)$ para cierto $\\xi\\in [a,b]$. Además podemos dar una forma explícita de la constante $c_n$ dada por\n",
        "\n",
        "    $\\displaystyle C_n=\\frac{1}{(n+1)!}\\int_0^nx(x-1)(x-2)...(x-n)dx.$\n",
        "\n",
        "\n",
        "Con esto podemos estimat el error entre la integración dada por interpolación y la integral excata.\n",
        "\n",
        "\n"
      ],
      "metadata": {
        "id": "-syQdOxF6z_O"
      }
    },
    {
      "cell_type": "markdown",
      "source": [
        ""
      ],
      "metadata": {
        "id": "_vPW7B6UWPdM"
      }
    },
    {
      "cell_type": "code",
      "source": [
        "\n",
        "\n",
        "\n",
        "\n",
        "def pol_integration(pol,a,b):\n",
        "  Pol = [0]\n",
        "  n= len(pol)\n",
        "  i=0\n",
        "  while i <= n-1: \n",
        "    Pol.append(pol[i]/(i+1))\n",
        "    i = i+1\n",
        "  print(Pol) \n",
        "  \n",
        " \n",
        "  def eval(r):  \n",
        "    sum=0\n",
        "    j =0\n",
        "    while j <= n:\n",
        "      sum = Pol[j]*(r**j)+sum\n",
        "      j =j+1\n",
        "    return sum\n",
        "  \n",
        "  integral=eval(b)-eval(a)\n",
        "\n",
        "  print(integral)\n",
        "   \n",
        "pol_integration([1,1,1,1],0,1)\n",
        "\n",
        "  \n",
        "\n"
      ],
      "metadata": {
        "id": "7HKrLGhzzfaP",
        "colab": {
          "base_uri": "https://localhost:8080/"
        },
        "outputId": "c2b8af2b-7ed5-41fd-b33e-4e6bb6452510"
      },
      "execution_count": null,
      "outputs": [
        {
          "output_type": "stream",
          "name": "stdout",
          "text": [
            "[0, 1.0, 0.5, 0.3333333333333333, 0.25]\n",
            "2.083333333333333\n"
          ]
        }
      ]
    },
    {
      "cell_type": "markdown",
      "source": [
        "# Cuadratura de Gauss"
      ],
      "metadata": {
        "id": "To5Bn3bs_1wN"
      }
    },
    {
      "cell_type": "markdown",
      "source": [
        "# Solución de ecuaciones diferenciales"
      ],
      "metadata": {
        "id": "Nz5IFDoUv9cN"
      }
    },
    {
      "cell_type": "markdown",
      "source": [
        ""
      ],
      "metadata": {
        "id": "7KQVpqvg_vS5"
      }
    },
    {
      "cell_type": "code",
      "source": [
        "n=100\n",
        "a=-1\n",
        "b=1\n",
        "h = (b-a)/n\n",
        "x=np.arange(a,b,h)\n",
        "x=np.append(x,[b])\n",
        "y=x\n",
        "\n",
        "i = 0\n",
        "sum=0\n",
        "aproxi=[]\n",
        "while i <= n:\n",
        "  sum =y[i]+sum \n",
        "  yaprox=y[0]+h*sum\n",
        "  aproxi.append(yaprox)\n",
        "  i=i+1\n",
        "\n",
        "\n",
        "plt.plot(x,aproxi)\n",
        "pol = lagrange(x,aproxi)\n",
        "#plt.plot(x,pol(x))\n",
        "\n"
      ],
      "metadata": {
        "colab": {
          "base_uri": "https://localhost:8080/",
          "height": 265
        },
        "id": "tqCWZn4lwY7Q",
        "outputId": "2c081bd7-ee02-4e97-d64b-36bd1b7ed351"
      },
      "execution_count": null,
      "outputs": [
        {
          "output_type": "display_data",
          "data": {
            "text/plain": [
              "<Figure size 432x288 with 1 Axes>"
            ],
            "image/png": "[encoded data removed]"
          },
          "metadata": {
            "needs_background": "light"
          }
        }
      ]
    }
  ]
}