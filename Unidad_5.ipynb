{
  "nbformat": 4,
  "nbformat_minor": 0,
  "metadata": {
    "colab": {
      "name": "Unidad 5",
      "provenance": [],
      "include_colab_link": true
    },
    "kernelspec": {
      "name": "python3",
      "display_name": "Python 3"
    },
    "language_info": {
      "name": "python"
    }
  },
  "cells": [
    {
      "cell_type": "markdown",
      "metadata": {
        "id": "view-in-github",
        "colab_type": "text"
      },
      "source": [
        "<a href=\"https://colab.research.google.com/github/antvilla06/Programaci-n-y-M-todos-Num-ricos/blob/main/Unidad_5.ipynb\" target=\"_parent\"><img src=\"https://colab.research.google.com/assets/colab-badge.svg\" alt=\"Open In Colab\"/></a>"
      ]
    },
    {
      "cell_type": "markdown",
      "source": [
        "función  $y'(x)-y(x)=e^x$ "
      ],
      "metadata": {
        "id": "BGx1DH3QX_mz"
      }
    },
    {
      "cell_type": "code",
      "execution_count": null,
      "metadata": {
        "id": "zDa0mUDgXwaX"
      },
      "outputs": [],
      "source": [
        "import math\n",
        "import matplotlib.pyplot as plt\n",
        "import math"
      ]
    },
    {
      "cell_type": "markdown",
      "source": [
        "Método del trapecio\n",
        "\n",
        "---\n",
        "\n"
      ],
      "metadata": {
        "id": "hjnd-DSmX8qC"
      }
    },
    {
      "cell_type": "code",
      "source": [
        "n=4\n",
        "k=0\n",
        "x=0\n",
        "b=1\n",
        "h=((b-x)/n)\n",
        "y=2.3\n",
        "matx=[]\n",
        "matx.append(x)\n",
        "sol=[]\n",
        "sol.append(y)\n",
        "\n",
        "while k<n:\n",
        "  y=(1/(1-(h/2)))*((h/2)*math.exp(x)+((2*y+h*y)/2)+(h/2)*math.exp(x+h))\n",
        "  x=x+h\n",
        "  sol.append(y)\n",
        "  matx.append(x)\n",
        "  k=k+1\n",
        "\n",
        "print(sol)\n",
        "print(matx)\n",
        "plt.plot(matx,sol)"
      ],
      "metadata": {
        "colab": {
          "base_uri": "https://localhost:8080/",
          "height": 317
        },
        "id": "-eJXExxKX8Br",
        "outputId": "cf2d0e30-5d37-4e3a-ba4e-6918e2a2aab3"
      },
      "execution_count": null,
      "outputs": [
        {
          "output_type": "stream",
          "name": "stdout",
          "text": [
            "[2.3, 3.2834322023839624, 4.640519501263362, 6.504342399811865, 9.053480491911214]\n",
            "[0, 0.25, 0.5, 0.75, 1.0]\n"
          ]
        },
        {
          "output_type": "execute_result",
          "data": {
            "text/plain": [
              "[<matplotlib.lines.Line2D at 0x7fc9479aabd0>]"
            ]
          },
          "metadata": {},
          "execution_count": 2
        },
        {
          "output_type": "display_data",
          "data": {
            "text/plain": [
              "<Figure size 432x288 with 1 Axes>"
            ],
            "image/png": "[encoded data removed]"
          },
          "metadata": {
            "needs_background": "light"
          }
        }
      ]
    },
    {
      "cell_type": "markdown",
      "source": [
        "Método Runge-Kutta\n",
        "\n",
        "---\n"
      ],
      "metadata": {
        "id": "rh5wnWK9aLLS"
      }
    },
    {
      "cell_type": "code",
      "source": [
        "x=0\n",
        "b=1\n",
        "n=4\n",
        "h=((b-x)/n)\n",
        "y=2.3\n",
        "j=0\n",
        "matx=[]\n",
        "matx.append(x)\n",
        "sol=[]\n",
        "sol.append(y)\n",
        "\n",
        "while j<n:\n",
        "  k1=h*(math.exp(x)+y)\n",
        "  k2=h*(math.exp(x+(h/2))+(y+(h/2)))\n",
        "  k3=h*(math.exp(x+(h/2))+(y+(k2/2)))\n",
        "  k4=h*(math.exp(x+h)+(y+k3))\n",
        "  y=y+(1/6)*(k1+(2*k2)+(2*k3)+k4)\n",
        "  x=x+h\n",
        "  sol.append(y)\n",
        "  matx.append(x)\n",
        "  j=j+1\n",
        "\n",
        "print(sol)\n",
        "print(matx)\n",
        "plt.plot(matx,sol)"
      ],
      "metadata": {
        "id": "yUXg3wI9aS8p",
        "outputId": "2050d1db-68dc-4c23-d581-f11b5b19f35a",
        "colab": {
          "base_uri": "https://localhost:8080/",
          "height": 317
        }
      },
      "execution_count": null,
      "outputs": [
        {
          "output_type": "stream",
          "name": "stdout",
          "text": [
            "[2.3, 3.246901483110283, 4.539283070461976, 6.296098053207073, 8.675753560743274]\n",
            "[0, 0.25, 0.5, 0.75, 1.0]\n"
          ]
        },
        {
          "output_type": "execute_result",
          "data": {
            "text/plain": [
              "[<matplotlib.lines.Line2D at 0x7fc9474a1d90>]"
            ]
          },
          "metadata": {},
          "execution_count": 3
        },
        {
          "output_type": "display_data",
          "data": {
            "text/plain": [
              "<Figure size 432x288 with 1 Axes>"
            ],
            "image/png": "[encoded data removed]"
          },
          "metadata": {
            "needs_background": "light"
          }
        }
      ]
    }
  ]
}