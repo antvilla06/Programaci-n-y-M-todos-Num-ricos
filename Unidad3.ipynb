{
  "nbformat": 4,
  "nbformat_minor": 0,
  "metadata": {
    "colab": {
      "name": "Unidad3.ipynb",
      "provenance": [],
      "toc_visible": true,
      "authorship_tag": "ABX9TyO3XvZJhO1PgECXMQqRkVRd",
      "include_colab_link": true
    },
    "kernelspec": {
      "name": "python3",
      "display_name": "Python 3"
    },
    "language_info": {
      "name": "python"
    }
  },
  "cells": [
    {
      "cell_type": "markdown",
      "metadata": {
        "id": "view-in-github",
        "colab_type": "text"
      },
      "source": [
        "<a href=\"https://colab.research.google.com/github/antvilla06/Programaci-n-y-M-todos-Num-ricos/blob/main/Unidad3.ipynb\" target=\"_parent\"><img src=\"https://colab.research.google.com/assets/colab-badge.svg\" alt=\"Open In Colab\"/></a>"
      ]
    },
    {
      "cell_type": "code",
      "source": [
        "import unidad2 as ud\n",
        "import numpy as np\n",
        "\n",
        "A=[[4,3,6],[2,1,78],[8,5,6]]\n",
        "A = np.array(A)\n",
        "n=A.shape[0]\n",
        "U=ud.ceros(n)\n",
        "L = ud.ceros(n)\n",
        "\n",
        "j =0\n",
        "i =0\n",
        "while i < n:\n",
        "  while j+i+1 < n:\n",
        "    U[i][j+i+1]=A[i][j+i+1]\n",
        "    L[i][j] = A[i+j][j]\n",
        "    j = j+1\n",
        "  i = i+1\n",
        "  \n",
        "\n",
        "print(U)\n",
        "print(L)\n",
        "\n",
        "\n",
        "\n"
      ],
      "metadata": {
        "id": "LARbcX_zvwA8"
      },
      "execution_count": null,
      "outputs": []
    },
    {
      "cell_type": "markdown",
      "source": [
        "## **Método de Newton**"
      ],
      "metadata": {
        "id": "ZtKVi5suWIBu"
      }
    },
    {
      "cell_type": "code",
      "source": [
        ""
      ],
      "metadata": {
        "id": "x0ctFSnDWNLU"
      },
      "execution_count": null,
      "outputs": []
    },
    {
      "cell_type": "markdown",
      "source": [
        "Velocidad de convergencia"
      ],
      "metadata": {
        "id": "GR_Uzoyjcz0c"
      }
    },
    {
      "cell_type": "code",
      "source": [
        ""
      ],
      "metadata": {
        "id": "SqG6ZtDgc2EA"
      },
      "execution_count": null,
      "outputs": []
    }
  ]
}