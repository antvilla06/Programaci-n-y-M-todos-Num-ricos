{
  "nbformat": 4,
  "nbformat_minor": 0,
  "metadata": {
    "colab": {
      "provenance": [],
      "authorship_tag": "ABX9TyMgLcTtG+FeFMIIETjIRHGd",
      "include_colab_link": true
    },
    "kernelspec": {
      "name": "python3",
      "display_name": "Python 3"
    },
    "language_info": {
      "name": "python"
    }
  },
  "cells": [
    {
      "cell_type": "markdown",
      "metadata": {
        "id": "view-in-github",
        "colab_type": "text"
      },
      "source": [
        "<a href=\"https://colab.research.google.com/github/antvilla06/Programaci-n-y-M-todos-Num-ricos/blob/main/binary.ipynb\" target=\"_parent\"><img src=\"https://colab.research.google.com/assets/colab-badge.svg\" alt=\"Open In Colab\"/></a>"
      ]
    },
    {
      "cell_type": "markdown",
      "source": [
        "Convertir número base 10 a base 2."
      ],
      "metadata": {
        "id": "xT1qqy8-A2E0"
      }
    },
    {
      "cell_type": "code",
      "execution_count": 21,
      "metadata": {
        "id": "kuyndJ9ipZhu",
        "colab": {
          "base_uri": "https://localhost:8080/"
        },
        "outputId": "47d88699-170e-4fd3-b441-acb644608434"
      },
      "outputs": [
        {
          "output_type": "stream",
          "name": "stdout",
          "text": [
            "[1, 0, 0, 1]\n"
          ]
        }
      ],
      "source": [
        "\n",
        "bin=[]\n",
        "k=9\n",
        "while k>=1:\n",
        "  r=k%2\n",
        "  k=k//2\n",
        "  bin.append(r)\n",
        "print(bin) \n",
        "\n",
        "    "
      ]
    },
    {
      "cell_type": "markdown",
      "source": [
        "Convertir un número en base 10 a base k.\n"
      ],
      "metadata": {
        "id": "VfjAzJ4xA7st"
      }
    },
    {
      "cell_type": "code",
      "source": [
        "n=25\n",
        "k=5\n",
        "bin=[]\n",
        "while n>=1:\n",
        "  r=n%k\n",
        "  n=n//k\n",
        "  bin.append(r)\n",
        "print(bin) "
      ],
      "metadata": {
        "colab": {
          "base_uri": "https://localhost:8080/"
        },
        "id": "QtCA630CYN7i",
        "outputId": "8924ed67-d811-4974-a3fe-5521d143ef39"
      },
      "execution_count": 23,
      "outputs": [
        {
          "output_type": "stream",
          "name": "stdout",
          "text": [
            "[0, 0, 1]\n"
          ]
        }
      ]
    },
    {
      "cell_type": "markdown",
      "source": [
        "Convert a base n to base k number."
      ],
      "metadata": {
        "id": "Tzc-a8DTYjdT"
      }
    }
  ]
}